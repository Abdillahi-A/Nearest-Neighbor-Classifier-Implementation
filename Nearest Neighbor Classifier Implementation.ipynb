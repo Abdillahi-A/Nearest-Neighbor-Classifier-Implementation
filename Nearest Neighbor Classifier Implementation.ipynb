{
 "cells": [
  {
   "cell_type": "markdown",
   "metadata": {
    "colab_type": "text",
    "id": "EZ1OaJRVjSFX"
   },
   "source": [
    "# Nearest Neighbor Classifier Implementation\n",
    "\n",
    "The objective of this notebook is to do an implementation of one of the simplest machine learning methods: [Nearest neighbor classifier](https://en.wikipedia.org/wiki/K-nearest_neighbors_algorithm). \n",
    "\n",
    "Given a training set of n training examples each with d features and known class label, the nearest neighbor classifier works by finding the eculidean distance of a test example whose class label is not known with all examples in the training set and assigning the label of the nearest training example to the test example. Essentially, it predicts the class label of a test example based on the label of its closest (or least dissimilar) training example. A more generic variant of the classifier, called a k-nearest neighbor (kNN) classifier works by predicting the label of a test example based on majority of k-nearest training examples. The nearest neighbor classifier thus becomes a special case of this classifer with k=1.\n",
    "\n",
    "### NB: The following tasks have been put together by the CS909 Data Mining Module on my Masters programme - the solutions however are my own:\n",
    "\n",
    "1. Generating and visualizing some (toy) data\n",
    "2. Implementing a distance function\n",
    "3. Implementing a nearest neighbor classifier function and generating predictions for test data\n",
    "4. Implementing a function to calculate accuracy\n",
    "5. Using built-in (sklearn) implementation of k-nearest neighbor classifier"
   ]
  },
  {
   "cell_type": "markdown",
   "metadata": {
    "colab_type": "text",
    "id": "Np2V2s2ejSFY"
   },
   "source": [
    "# 1. Generating and visualizing data\n",
    "\n",
    "Functions for generating and visualizing data are provided below. You do not need to change anything for this. The getExamples function below will generate a numpy array X which contains n training examples in d = 2 dimensions and a vector y which contains the corresponding binary class labels (+1 or -1) of these examples. The plotit function will simply do a scatter plot of these training examples in the feature space. \n",
    "\n",
    "Note that the semantic meaning of the features or the labels is irrelevant here. The two features may correspond to \"whiteness\" and \"computer screens\" in the pathologist vs. computer scientist example we discussed in the class or they can be anything else. For this exercise, we have used Gaussian random number generation to generate two sets of points: positive class (y=+1) examples centered at  (+1,+1) and negative class (y=-1) examples centered at (-1,-1) in the feature space. Essentially, getExamples models the real world phenomenon that is generating our data."
   ]
  },
  {
   "cell_type": "code",
   "execution_count": 1,
   "metadata": {
    "colab": {
     "base_uri": "https://localhost:8080/",
     "height": 350
    },
    "colab_type": "code",
    "id": "VALwE9lgjSFY",
    "outputId": "fcd48d19-f064-42a5-b050-b89d59956dfc",
    "scrolled": false
   },
   "outputs": [
    {
     "data": {
      "text/plain": [
       "<Figure size 640x480 with 1 Axes>"
      ]
     },
     "metadata": {},
     "output_type": "display_data"
    },
    {
     "data": {
      "text/plain": [
       "[-3.4898104476800706, 3.812506885733782, -3.273902477903575, 3.574750628666536]"
      ]
     },
     "execution_count": 1,
     "metadata": {},
     "output_type": "execute_result"
    }
   ],
   "source": [
    "import numpy as np #importing numpy\n",
    "from numpy.random import randn,randint #importing randn\n",
    "import matplotlib.pyplot as plt #importing plotting module\n",
    "import itertools\n",
    "import warnings\n",
    "\n",
    "def plotit(X,Y=None,clf=None,  conts = None, ccolors = ('b','k','r'), colors = ('c','y'), markers = ('s','o'), hold = False, transform = None,extent = None,**kwargs):\n",
    "    \"\"\"\n",
    "    DO NOT EDIT (from: https://github.com/foxtrotmike/plotit)\n",
    "    A function for showing data scatter plot and classification boundary\n",
    "    of a classifier for 2D data\n",
    "        X: nxd  matrix of data points\n",
    "        Y: (optional) n vector of class labels\n",
    "        clf: (optional) classification/discriminant function handle\n",
    "        conts: (optional) contours (if None, contours are drawn for each class boundary)\n",
    "        ccolors: (optional) colors for contours   \n",
    "        colors: (optional) colors for each class (sorted wrt class id)\n",
    "            can be 'scaled' or 'random' or a list/tuple of color ids\n",
    "        markers: (optional) markers for each class (sorted wrt class id)\n",
    "        hold: Whether to hold the plot or not for overlay (default: False).\n",
    "        transform: (optional) a function handle for transforming data before passing to clf\n",
    "        kwargs: any keyword arguments to be passed to clf (if any)        \n",
    "    \"\"\"\n",
    "    if clf is not None and X.shape[1]!=2:\n",
    "        warnings.warn(\"Data Dimensionality is not 2. Unable to plot.\")\n",
    "        return\n",
    "    if markers is None:\n",
    "        markers = ('.',)\n",
    "    eps=1e-6\n",
    "    d0,d1 = (0,1)\n",
    "    if extent is None:\n",
    "        minx, maxx = np.min(X[:,d0])-eps, np.max(X[:,d0])+eps\n",
    "        miny, maxy = np.min(X[:,d1])-eps, np.max(X[:,d1])+eps\n",
    "        extent = [minx,maxx,miny,maxy]\n",
    "    else:\n",
    "        [minx,maxx,miny,maxy] = extent\n",
    "    if Y is not None:\n",
    "        classes = sorted(set(Y))\n",
    "        if conts is None:\n",
    "            conts = list(classes)        \n",
    "        vmin,vmax = classes[0]-eps,classes[-1]+eps\n",
    "    else:\n",
    "        vmin,vmax=-2-eps,2+eps\n",
    "        if conts is None:            \n",
    "            conts = sorted([-1+eps,0,1-eps])\n",
    "        \n",
    "    if clf is not None:\n",
    "        npts = 150\n",
    "        x = np.linspace(minx,maxx,npts)\n",
    "        y = np.linspace(miny,maxy,npts)\n",
    "        t = np.array(list(itertools.product(x,y)))\n",
    "        if transform is not None:\n",
    "            t = transform(t)\n",
    "        z = clf(t,**kwargs)\n",
    "        \n",
    "        z = np.reshape(z,(npts,npts)).T        \n",
    "        \n",
    "        \n",
    "        plt.contour(x,y,z,conts,linewidths = [2],colors=ccolors,extent=extent, label='f(x)=0')\n",
    "        #plt.imshow(np.flipud(z), extent = extent, cmap=plt.cm.Purples, vmin = -2, vmax = +2); plt.colorbar()\n",
    "        plt.pcolormesh(x, y, z,cmap=plt.cm.Purples,vmin=vmin,vmax=vmax);plt.colorbar()\n",
    "        plt.axis(extent)\n",
    "    \n",
    "    if Y is not None:        \n",
    "        for i,y in enumerate(classes):\n",
    "            if colors is None or colors=='scaled':\n",
    "                cc = np.array([[i,i,i]])/float(len(classes))\n",
    "            elif colors =='random':\n",
    "                cc = np.array([[np.random.rand(),np.random.rand(),np.random.rand()]])\n",
    "            else:\n",
    "                cc = colors[i%len(colors)]\n",
    "            mm = markers[i%len(markers)]\n",
    "            plt.scatter(X[Y==y,d0],X[Y==y,d1], marker = mm,c = cc, s = 30)     \n",
    "         \n",
    "    else:\n",
    "        plt.scatter(X[:,d0],X[:,d1],marker = markers[0], c = 'k', s = 5)\n",
    "    plt.xlabel('$x_1$')\n",
    "    plt.ylabel('$x_2$')   \n",
    "    if not hold:\n",
    "        plt.grid()        \n",
    "        plt.show()\n",
    "    return extent\n",
    "\n",
    "def getExamples(n=100,d=2):\n",
    "    \"\"\"\n",
    "    DO NOT EDIT\n",
    "    Generates n d-dimensional normally distributed examples of each class        \n",
    "    The mean of the positive class is [1] and for the negative class it is [-1]\n",
    "    \"\"\"\n",
    "    Xp = randn(n,d)#+1   #generate n examples of the positie class\n",
    "    Xp=Xp+1\n",
    "    Xn = randn(n,d)#-1   #generate n examples of the negative class\n",
    "    Xn=Xn-1\n",
    "    X = np.vstack((Xp,Xn))  #Stack the examples together to a single matrix\n",
    "    Y = np.array([+1]*n+[-1]*n) #Associate Labels\n",
    "    return (X,Y) \n",
    "\n",
    "\n",
    "X,Y = getExamples()\n",
    "plotit(X = X, Y = Y)"
   ]
  },
  {
   "cell_type": "markdown",
   "metadata": {
    "colab_type": "text",
    "id": "jw8UzNBVjSFa"
   },
   "source": [
    "# 2. Implementing the Euclidean Distance Function\n",
    "\n",
    "[Euclidean distance](https://en.wikipedia.org/wiki/Euclidean_distance) between two vectors $p$ and $q$ in d-dimensional space is given by: $d(p,q) = \\sqrt{\\sum_{i=1}^{d} (p_i-q_i)^2}$. \n",
    "\n",
    "Please implement the function distance below that can be used to calculate the Euclidean distance between two points. "
   ]
  },
  {
   "cell_type": "code",
   "execution_count": 2,
   "metadata": {
    "colab": {},
    "colab_type": "code",
    "id": "PtQgerrZjSFb"
   },
   "outputs": [],
   "source": [
    "def distance(p,q):\n",
    "    \"\"\"\n",
    "    Input:\n",
    "        p: (1xd) numpy vector of 1 training examples each with d features\n",
    "        q: (1xd) numpy vector of 1 training examples each with d features        \n",
    "    Return:\n",
    "        d: Euclidean Distance\n",
    "    TO IMPLEMENT:\n",
    "        Euclidean distance formula.    \n",
    "    \"\"\"\n",
    "    # Put your code here\n",
    "    \n",
    "    d = (((p-q)**2).sum())**0.5\n",
    "\n",
    "    \n",
    "    # Below is a dummy return for testing only.\n",
    "    # Remove it when you implement your classifier.\n",
    "    #d = 0.0\n",
    "    return d"
   ]
  },
  {
   "cell_type": "markdown",
   "metadata": {
    "colab_type": "text",
    "id": "YsyKLrSUjSFc"
   },
   "source": [
    "Test the correctness of your implementation by finding the distance between a number of points and verifying through hand calculations"
   ]
  },
  {
   "cell_type": "code",
   "execution_count": 3,
   "metadata": {
    "colab": {
     "base_uri": "https://localhost:8080/",
     "height": 68
    },
    "colab_type": "code",
    "id": "eGmMLz3KjSFd",
    "outputId": "ff520448-0b2b-45cd-9367-3f0d5322ad54"
   },
   "outputs": [
    {
     "name": "stdout",
     "output_type": "stream",
     "text": [
      "1.4142135623730951\n",
      "1.4142135623730951\n",
      "5.385164807134504\n"
     ]
    }
   ],
   "source": [
    "print(distance(np.array([0,0]),np.array([1,1])))\n",
    "print(distance(np.array([1,1]),np.array([0,0])))\n",
    "print(distance(np.array([-1,-5]),np.array([1,0])))"
   ]
  },
  {
   "cell_type": "markdown",
   "metadata": {
    "colab_type": "text",
    "id": "uxn6iUgajSFe"
   },
   "source": [
    "Once you have ensured that your function calculates the distance correctly. Please move onto the next step. \n",
    "\n",
    "For the following steps, you are free to use any other (more efficient) implementation of the distance function as well. "
   ]
  },
  {
   "cell_type": "markdown",
   "metadata": {
    "colab_type": "text",
    "id": "vBcRDKDtjSFe"
   },
   "source": [
    "# 3. Implementing a nearest neighbor function\n",
    "\n",
    "In this part of the exercise, we will be implementing a function implementation of the the nearest neighbor classifier. \n",
    "\n",
    "However, before that, we will generate some test data."
   ]
  },
  {
   "cell_type": "code",
   "execution_count": 4,
   "metadata": {},
   "outputs": [],
   "source": [
    "# Create train_test split\n",
    "X_train, X_test = X[:150], X[150:]\n",
    "y_train, y_test = Y[:150], Y[150:]"
   ]
  },
  {
   "cell_type": "code",
   "execution_count": 5,
   "metadata": {},
   "outputs": [],
   "source": [
    "def NN(X_train, y_train, X_test):\n",
    "\n",
    "    list_of_euclidian_distances = []\n",
    "    list_of_y_pred_indexes = []\n",
    "\n",
    "    for i in X_test:\n",
    "        for j in X_train:\n",
    "            d = distance(i,j)\n",
    "            list_of_euclidian_distances.append(d)\n",
    "        # find nearest neighbour\n",
    "        y_pred_index = list_of_euclidian_distances.index(min(list_of_euclidian_distances))\n",
    "        list_of_y_pred_indexes.append(y_pred_index)\n",
    "\n",
    "        #reset list_of_euclidian_distances = []\n",
    "        list_of_euclidian_distances = []\n",
    "\n",
    "\n",
    "    y_pred = []\n",
    "\n",
    "    for i in list_of_y_pred_indexes:\n",
    "        y_pred.append(y_train[i])\n",
    "        \n",
    "    return y_pred\n",
    "\n"
   ]
  },
  {
   "cell_type": "code",
   "execution_count": 6,
   "metadata": {},
   "outputs": [],
   "source": [
    "# get y_predictions\n",
    "y_pred = NN(X_train, y_train, X_test)"
   ]
  },
  {
   "cell_type": "code",
   "execution_count": 7,
   "metadata": {},
   "outputs": [
    {
     "data": {
      "text/html": [
       "<div>\n",
       "<style scoped>\n",
       "    .dataframe tbody tr th:only-of-type {\n",
       "        vertical-align: middle;\n",
       "    }\n",
       "\n",
       "    .dataframe tbody tr th {\n",
       "        vertical-align: top;\n",
       "    }\n",
       "\n",
       "    .dataframe thead th {\n",
       "        text-align: right;\n",
       "    }\n",
       "</style>\n",
       "<table border=\"1\" class=\"dataframe\">\n",
       "  <thead>\n",
       "    <tr style=\"text-align: right;\">\n",
       "      <th></th>\n",
       "      <th>real</th>\n",
       "      <th>pred</th>\n",
       "    </tr>\n",
       "  </thead>\n",
       "  <tbody>\n",
       "    <tr>\n",
       "      <th>0</th>\n",
       "      <td>-1</td>\n",
       "      <td>1</td>\n",
       "    </tr>\n",
       "    <tr>\n",
       "      <th>1</th>\n",
       "      <td>-1</td>\n",
       "      <td>-1</td>\n",
       "    </tr>\n",
       "    <tr>\n",
       "      <th>2</th>\n",
       "      <td>-1</td>\n",
       "      <td>1</td>\n",
       "    </tr>\n",
       "    <tr>\n",
       "      <th>3</th>\n",
       "      <td>-1</td>\n",
       "      <td>-1</td>\n",
       "    </tr>\n",
       "    <tr>\n",
       "      <th>4</th>\n",
       "      <td>-1</td>\n",
       "      <td>-1</td>\n",
       "    </tr>\n",
       "  </tbody>\n",
       "</table>\n",
       "</div>"
      ],
      "text/plain": [
       "   real  pred\n",
       "0    -1     1\n",
       "1    -1    -1\n",
       "2    -1     1\n",
       "3    -1    -1\n",
       "4    -1    -1"
      ]
     },
     "execution_count": 7,
     "metadata": {},
     "output_type": "execute_result"
    }
   ],
   "source": [
    "# create a dataframe of real vs predicted values\n",
    "\n",
    "import matplotlib.pyplot as plt\n",
    "import pandas as pd\n",
    "\n",
    "df = pd.DataFrame({'real':y_test,'pred':y_pred})\n",
    "df.head()"
   ]
  },
  {
   "cell_type": "code",
   "execution_count": 8,
   "metadata": {},
   "outputs": [],
   "source": [
    "correct = 0\n",
    "\n",
    "for i in range(len(df)):\n",
    "    if df['real'][i] == df['pred'][i]:\n",
    "        correct+=1\n",
    "        "
   ]
  },
  {
   "cell_type": "code",
   "execution_count": 9,
   "metadata": {},
   "outputs": [
    {
     "data": {
      "text/plain": [
       "40"
      ]
     },
     "execution_count": 9,
     "metadata": {},
     "output_type": "execute_result"
    }
   ],
   "source": [
    "correct"
   ]
  },
  {
   "cell_type": "markdown",
   "metadata": {
    "colab_type": "text",
    "id": "hvn9d3zOjSFl"
   },
   "source": [
    "# 4. Accuracy Claculation\n",
    "\n",
    "The above code will generate labels for each test examples using the classifier. We now need to implement a function that, given Ypred and Ytest, tells us how accurate the predictor is. Accuracy is defined as the number of examples for which the prediction label is equal to the test label."
   ]
  },
  {
   "cell_type": "code",
   "execution_count": 10,
   "metadata": {
    "colab": {},
    "colab_type": "code",
    "id": "9WM4_0r7jSFm"
   },
   "outputs": [],
   "source": [
    "def get_accuracy(df):\n",
    "    correct = 0\n",
    "    \n",
    "    for i in range(len(df)):\n",
    "        if df['real'][i] == df['pred'][i]:\n",
    "            correct+=1\n",
    "    \n",
    "    accuracy = correct/len(df)\n",
    "    \n",
    "    return accuracy\n",
    "    \n"
   ]
  },
  {
   "cell_type": "markdown",
   "metadata": {
    "colab_type": "text",
    "id": "erltuIXsjSFn"
   },
   "source": [
    "Use your function to calculate the accuracy of your predictor. "
   ]
  },
  {
   "cell_type": "code",
   "execution_count": 11,
   "metadata": {},
   "outputs": [
    {
     "name": "stdout",
     "output_type": "stream",
     "text": [
      "Accuracy: 0.8\n"
     ]
    }
   ],
   "source": [
    "accuracy = get_accuracy(df)\n",
    "\n",
    "print(f'Accuracy: {accuracy}')"
   ]
  },
  {
   "cell_type": "markdown",
   "metadata": {
    "colab_type": "text",
    "id": "nHm8nsQFjSFp"
   },
   "source": [
    "Once you are done calculating the accuracy, you can use the following code to visualize the classification boundary of your predictor."
   ]
  },
  {
   "cell_type": "code",
   "execution_count": 12,
   "metadata": {
    "colab": {
     "base_uri": "https://localhost:8080/",
     "height": 371
    },
    "colab_type": "code",
    "id": "zsuOclJCjSFp",
    "outputId": "b71e6d11-5e26-4f56-8ea6-0805a7f4e150"
   },
   "outputs": [
    {
     "name": "stderr",
     "output_type": "stream",
     "text": [
      "/usr/local/lib/python3.7/site-packages/matplotlib/contour.py:1000: UserWarning: The following kwargs were not used by contour: 'label'\n",
      "  s)\n"
     ]
    },
    {
     "data": {
      "image/png": "[encoded data removed]",
      "text/plain": [
       "<Figure size 432x288 with 2 Axes>"
      ]
     },
     "metadata": {
      "needs_background": "light"
     },
     "output_type": "display_data"
    },
    {
     "data": {
      "text/plain": [
       "[-3.17653362935669,\n",
       " 0.6219189930771979,\n",
       " -2.7759091474138837,\n",
       " 1.4274788662646272]"
      ]
     },
     "execution_count": 12,
     "metadata": {},
     "output_type": "execute_result"
    }
   ],
   "source": [
    "def clf(X_test): # do not edit\n",
    "    return NN(X_train, y_train, X_test)\n",
    "plotit(X_test,Y=y_test,clf=clf,conts=[0])"
   ]
  },
  {
   "cell_type": "markdown",
   "metadata": {
    "colab_type": "text",
    "id": "r1tsiY3rjSFu"
   },
   "source": [
    "# 6. Using sk-learn\n",
    "\n",
    "Our basic implementation of the nearest neighbor classifier is quite inefficient and tedious as it is meant as an exercise to practice Python. Fortunately, Python provides an excellent package called Scikit-Learn which provides a very [efficient tree-based implementation](https://scikit-learn.org/stable/modules/generated/sklearn.neighbors.KNeighborsClassifier.html) of k-nearest neighbor which is conceptually very similar to our implementation."
   ]
  },
  {
   "cell_type": "code",
   "execution_count": 13,
   "metadata": {
    "colab": {
     "base_uri": "https://localhost:8080/",
     "height": 68
    },
    "colab_type": "code",
    "id": "yFzVZo4IjSFv",
    "outputId": "97684b53-319e-4cc2-edee-1fece7a90604"
   },
   "outputs": [
    {
     "data": {
      "text/plain": [
       "KNeighborsClassifier(algorithm='auto', leaf_size=30, metric='minkowski',\n",
       "                     metric_params=None, n_jobs=None, n_neighbors=1, p=2,\n",
       "                     weights='uniform')"
      ]
     },
     "execution_count": 13,
     "metadata": {},
     "output_type": "execute_result"
    }
   ],
   "source": [
    "from sklearn.neighbors import KNeighborsClassifier\n",
    "sknn = KNeighborsClassifier(n_neighbors=1)\n",
    "sknn.fit(X_train,y_train)"
   ]
  },
  {
   "cell_type": "code",
   "execution_count": 14,
   "metadata": {},
   "outputs": [],
   "source": [
    "pred = sknn.predict(X_test)"
   ]
  },
  {
   "cell_type": "markdown",
   "metadata": {
    "colab_type": "text",
    "id": "Oqe84P2ljSFw"
   },
   "source": [
    "You can also use the accuracy function that is builtin for Sk-learn. Please verify that your implementation generates the same accuracy as the builtin one for the test data. You can use the following code to visualize the boundary."
   ]
  },
  {
   "cell_type": "code",
   "execution_count": 15,
   "metadata": {},
   "outputs": [
    {
     "data": {
      "text/plain": [
       "0.8"
      ]
     },
     "execution_count": 15,
     "metadata": {},
     "output_type": "execute_result"
    }
   ],
   "source": [
    "# Excellent the accuracy of our own NN implementation and the Sklearn version are the same!\n",
    "from sklearn.metrics import confusion_matrix, accuracy_score\n",
    "\n",
    "confusion_matrix(y_test, pred)\n",
    "\n",
    "accuracy_score(y_test, pred)"
   ]
  },
  {
   "cell_type": "code",
   "execution_count": null,
   "metadata": {
    "colab": {},
    "colab_type": "code",
    "id": "8jO7b-u8jsD1"
   },
   "outputs": [],
   "source": []
  }
 ],
 "metadata": {
  "colab": {
   "name": "DM-1-kNN.ipynb",
   "provenance": []
  },
  "kernelspec": {
   "display_name": "Python 3",
   "language": "python",
   "name": "python3"
  },
  "language_info": {
   "codemirror_mode": {
    "name": "ipython",
    "version": 3
   },
   "file_extension": ".py",
   "mimetype": "text/x-python",
   "name": "python",
   "nbconvert_exporter": "python",
   "pygments_lexer": "ipython3",
   "version": "3.7.4"
  }
 },
 "nbformat": 4,
 "nbformat_minor": 1
}
